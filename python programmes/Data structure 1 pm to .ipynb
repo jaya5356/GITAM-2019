{
 "cells": [
  {
   "cell_type": "code",
   "execution_count": 23,
   "metadata": {},
   "outputs": [
    {
     "name": "stdout",
     "output_type": "stream",
     "text": [
      "2  4  7  "
     ]
    }
   ],
   "source": [
    "def linearSearch(a,tarTree):\n",
    "    flag=0\n",
    "    for i in range(len(a)):\n",
    "        if(a[i]==tarTree):\n",
    "            print(flag,end=\"  \")\n",
    "        flag=flag+1;\n",
    "            \n",
    "    \n",
    "\n",
    "a=[1,9,5,6,5,15,12,5]\n",
    "linearSearch(a,5)    \n",
    "        \n",
    "        "
   ]
  },
  {
   "cell_type": "code",
   "execution_count": 26,
   "metadata": {},
   "outputs": [
    {
     "name": "stdout",
     "output_type": "stream",
     "text": [
      "!\n",
      "\n",
      "!\n",
      "!\n",
      "!\n",
      "!\n",
      "\n",
      "!\n",
      "!\n",
      "!\n",
      "!\n",
      "!\n",
      "!\n",
      "!\n",
      "\n"
     ]
    }
   ],
   "source": [
    "def linearSearch(a,tarTree):\n",
    "    for i in range(len(a)):\n",
    "        if(a[i]==tarTree):\n",
    "            j=0\n",
    "            while(j!=i):\n",
    "                print(\"!\")\n",
    "                j=j+1\n",
    "            print()\n",
    "            \n",
    "            \n",
    "a=[1,5,9,6,5,15,12,5]\n",
    "linearSearch(a,5)\n",
    "            "
   ]
  },
  {
   "cell_type": "code",
   "execution_count": 34,
   "metadata": {},
   "outputs": [
    {
     "data": {
      "text/plain": [
       "60"
      ]
     },
     "execution_count": 34,
     "metadata": {},
     "output_type": "execute_result"
    }
   ],
   "source": [
    "def linearSearch3(a):\n",
    "        sum=0\n",
    "        for i in range(len(a)):\n",
    "            if(a[i]%3==0 and a[i]%5==0):\n",
    "                sum=sum+a[i]\n",
    "        return sum\n",
    "\n",
    "a=[15,12,2,9,18,36,45]\n",
    "linearSearch3(a)\n",
    "        "
   ]
  },
  {
   "cell_type": "code",
   "execution_count": 35,
   "metadata": {},
   "outputs": [
    {
     "name": "stdout",
     "output_type": "stream",
     "text": [
      "1 3 8 15 5 "
     ]
    }
   ],
   "source": [
    "def linearFormated(a):\n",
    "    for i in range(len(a)):\n",
    "        if(i==0 or i== len(a)-1):\n",
    "            print(a[i],end =\" \")\n",
    "        else:\n",
    "            print(a[i-1]*a[i+1],end =\" \")\n",
    "            \n",
    "            \n",
    "a=[1,2,3,4,5]\n",
    "linearFormated(a)"
   ]
  },
  {
   "cell_type": "code",
   "execution_count": 2,
   "metadata": {},
   "outputs": [
    {
     "name": "stdout",
     "output_type": "stream",
     "text": [
      "1 9 19 22 "
     ]
    }
   ],
   "source": [
    "def linearFormated3(a):\n",
    "    for i in range(len(a)):\n",
    "        if(i==0 or i==len(a)-1):\n",
    "            print(a[i],end =\" \");\n",
    "        elif (a[i-1]%2==0 and a[i+1]%2==0):\n",
    "            print(a[i],end = \" \")\n",
    "        \n",
    "\n",
    "a=[1,6,9,4,16,19,22]\n",
    "linearFormated3(a)"
   ]
  },
  {
   "cell_type": "code",
   "execution_count": 7,
   "metadata": {},
   "outputs": [
    {
     "name": "stdout",
     "output_type": "stream",
     "text": [
      "enter a Number14569\n",
      "[1, 4, 5, 6, 9]\n"
     ]
    }
   ],
   "source": [
    "def numbertoListConversion(n):\n",
    "    list =[]\n",
    "    while(n!=0):\n",
    "        r=n%10;\n",
    "        list.append(r)\n",
    "        n=n//10\n",
    "    list.reverse()\n",
    "    print(list)\n",
    "\n",
    "    \n",
    "n=int(input(\"enter a Number\"))\n",
    "numbertoListConversion(n)\n"
   ]
  },
  {
   "cell_type": "code",
   "execution_count": null,
   "metadata": {},
   "outputs": [],
   "source": []
  }
 ],
 "metadata": {
  "kernelspec": {
   "display_name": "Python 3",
   "language": "python",
   "name": "python3"
  },
  "language_info": {
   "codemirror_mode": {
    "name": "ipython",
    "version": 3
   },
   "file_extension": ".py",
   "mimetype": "text/x-python",
   "name": "python",
   "nbconvert_exporter": "python",
   "pygments_lexer": "ipython3",
   "version": "3.7.3"
  }
 },
 "nbformat": 4,
 "nbformat_minor": 2
}
