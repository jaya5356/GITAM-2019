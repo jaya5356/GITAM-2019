{
 "cells": [
  {
   "cell_type": "code",
   "execution_count": 4,
   "metadata": {},
   "outputs": [
    {
     "name": "stdout",
     "output_type": "stream",
     "text": [
      "1 2 3 4 5 6 7 \n",
      "5\n"
     ]
    }
   ],
   "source": [
    "list1 = [1,2,3,4,5,6,7]\n",
    "for x in list1:\n",
    "    print(x,end= \" \")\n",
    "\n",
    "print();\n",
    "print(list1[4]);\n",
    "\n"
   ]
  },
  {
   "cell_type": "code",
   "execution_count": 18,
   "metadata": {},
   "outputs": [
    {
     "name": "stdout",
     "output_type": "stream",
     "text": [
      "['GITAM', 'Python', 'Raptor', 1, 5, 'Python', 'Python']\n",
      "7\n",
      "['GITAM', 'Python', 2019, 'Raptor', 1, 5, 'Python', 'Python']\n",
      "8\n",
      "['GITAM', 'Python', 2019, 'Raptor', 2020, 1, 5, 'Python', 'Python']\n",
      "9\n",
      "['GITAM', 2019, 'Raptor', 2020, 1, 5, 'Python', 'Python']\n",
      "['Python', 'Python', 5, 1, 2020, 'Raptor', 2019, 'GITAM']\n"
     ]
    }
   ],
   "source": [
    "list1= [\"GITAM\",\"Python\",\"Raptor\",1,5,\"Python\",\"Python\"]\n",
    "print(list1)\n",
    "list1.index(\"Python\")\n",
    "list1.index(1)\n",
    "print(len(list1))\n",
    "list1.insert(2,2019)\n",
    "print(list1)\n",
    "print(len(list1))\n",
    "list1.insert(4,2020)\n",
    "\n",
    "print(list1)\n",
    "print(len(list1))\n",
    "\n",
    "list1.remove(\"Python\")\n",
    "print(list1)\n",
    "\n",
    "list1.reverse()\n",
    "print(list1)"
   ]
  },
  {
   "cell_type": "markdown",
   "metadata": {},
   "source": [
    "# Data Structures :-"
   ]
  },
  {
   "cell_type": "code",
   "execution_count": 19,
   "metadata": {},
   "outputs": [
    {
     "name": "stdout",
     "output_type": "stream",
     "text": [
      "[1, 9, 7, 4, 11, 98]\n"
     ]
    }
   ],
   "source": [
    "list1=[1,9,2,7,4,11,98]\n",
    "list1.pop(2)\n",
    "print(list1)\n"
   ]
  },
  {
   "cell_type": "code",
   "execution_count": 24,
   "metadata": {},
   "outputs": [
    {
     "name": "stdout",
     "output_type": "stream",
     "text": [
      "target item is found\n"
     ]
    }
   ],
   "source": [
    "def linearSearch(a,tarItem):\n",
    "    flag=0\n",
    "    for i in range(len(a)):\n",
    "        if(a[i]==tarItem):\n",
    "            flag=1;\n",
    "            break\n",
    "    if(flag!=0):\n",
    "        print(\"target item is found\")\n",
    "    else:\n",
    "        print(\"target item is not found\")\n",
    "\n",
    "        \n",
    "a=[16,2,12,6,9,7,1]\n",
    "linearSearch(a,6)"
   ]
  },
  {
   "cell_type": "code",
   "execution_count": 31,
   "metadata": {},
   "outputs": [
    {
     "name": "stdout",
     "output_type": "stream",
     "text": [
      "2\n"
     ]
    }
   ],
   "source": [
    "def linearSearchDuplicate(a,tarItem):\n",
    "    flag=0;\n",
    "    for i in range(len(a)):\n",
    "        if(a[i]==tarItem):\n",
    "            flag=flag+1\n",
    "    print(flag)    \n",
    "    \n",
    "\n",
    "a=[9,1,6,1,5,9,15,16]\n",
    "linearSearchDuplicate(a,9)\n",
    "    "
   ]
  },
  {
   "cell_type": "code",
   "execution_count": null,
   "metadata": {},
   "outputs": [],
   "source": [
    "\n"
   ]
  }
 ],
 "metadata": {
  "kernelspec": {
   "display_name": "Python 3",
   "language": "python",
   "name": "python3"
  },
  "language_info": {
   "codemirror_mode": {
    "name": "ipython",
    "version": 3
   },
   "file_extension": ".py",
   "mimetype": "text/x-python",
   "name": "python",
   "nbconvert_exporter": "python",
   "pygments_lexer": "ipython3",
   "version": "3.7.3"
  }
 },
 "nbformat": 4,
 "nbformat_minor": 2
}
