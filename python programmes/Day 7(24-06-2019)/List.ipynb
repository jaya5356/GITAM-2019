{
 "cells": [
  {
   "cell_type": "code",
   "execution_count": 18,
   "metadata": {},
   "outputs": [
    {
     "name": "stdout",
     "output_type": "stream",
     "text": [
      "90\n"
     ]
    }
   ],
   "source": [
    "def printEven(n):\n",
    "    \n",
    "  cnt =0;\n",
    "  sum =0;\n",
    "  while(cnt!=n):\n",
    "    if(cnt%2==0):\n",
    "      sum=sum+cnt;\n",
    "    cnt=cnt+1;\n",
    "  return sum;  \n",
    "print(printEven(20))    "
   ]
  },
  {
   "cell_type": "markdown",
   "metadata": {},
   "source": [
    "Factors list of a given numbers\n",
    " 12----- 1,2,3,4,6,12"
   ]
  },
  {
   "cell_type": "code",
   "execution_count": 15,
   "metadata": {},
   "outputs": [
    {
     "name": "stdout",
     "output_type": "stream",
     "text": [
      "1  2  3  4  6  "
     ]
    }
   ],
   "source": [
    "def factorsList(n):\n",
    "  i=1;\n",
    "  while(i!=n):\n",
    "    if(n%i==0):\n",
    "       print(i,end=\"  \");\n",
    "    i=i+1;\n",
    "  return ;\n",
    "factorsList(12);"
   ]
  },
  {
   "cell_type": "markdown",
   "metadata": {},
   "source": [
    "##list of python\n",
    "list can be written in python in square Brackets and each item in list is separated by comma operator\n",
    "List can be anything - int,char,float and string"
   ]
  },
  {
   "cell_type": "markdown",
   "metadata": {},
   "source": [
    "list1 = [1 ,2,3,4,5]\n",
    "#Entire list\n",
    "print(list1+"
   ]
  },
  {
   "cell_type": "code",
   "execution_count": 19,
   "metadata": {},
   "outputs": [
    {
     "name": "stdout",
     "output_type": "stream",
     "text": [
      "[1, 2, 3, 4, 5]\n",
      "1\n"
     ]
    }
   ],
   "source": [
    "list1 = [1,2,3,4,5];\n",
    "#Entire List\n",
    "print(list1);\n",
    "#list[0]\n",
    "print(list1[0])"
   ]
  },
  {
   "cell_type": "code",
   "execution_count": 28,
   "metadata": {},
   "outputs": [
    {
     "name": "stdout",
     "output_type": "stream",
     "text": [
      "Akhil   Aravind   Anil   Akash   "
     ]
    }
   ],
   "source": [
    "list2 = [\"Akhil\",\"Aravind\",\"Anil\",\"Akash\"]\n",
    "for x in list2:\n",
    "  print(x,end =\"   \")\n"
   ]
  },
  {
   "cell_type": "code",
   "execution_count": 24,
   "metadata": {},
   "outputs": [
    {
     "name": "stdout",
     "output_type": "stream",
     "text": [
      "1 2 3 4 5 6 7 \n",
      "5\n",
      "[4, 5, 6, 7]\n",
      "[1, 2, 3]\n",
      "[1, 2, 3]\n",
      "[1, 2, 3, 4, 5, 6, 7]\n"
     ]
    }
   ],
   "source": [
    "#list example with a particular index\n",
    "list1 = [1,2,3,4,5,6,7]\n",
    "for x in list1:\n",
    "    print(x,end= \" \")\n",
    "    \n",
    "print();\n",
    "print(list1[4]);\n",
    "print(list1[3:7]);\n",
    "print(list1[0:3]);\n",
    "print(list1[ :3]);\n",
    "print(list1[ :7]);"
   ]
  },
  {
   "cell_type": "code",
   "execution_count": 46,
   "metadata": {
    "scrolled": true
   },
   "outputs": [
    {
     "name": "stdout",
     "output_type": "stream",
     "text": [
      "1 2 3 4 5 6 7 8 9 10 \n",
      "[2, 3, 4, 5, 6, 7, 8, 9]\n",
      "[3, 4, 5, 6, 7, 8]\n",
      "[1, 3, 5, 7, 9]\n",
      "[1, 4, 7, 10]\n",
      "[10, 8, 6, 4, 2]\n",
      "[10, 7, 4, 1]\n",
      "10\n",
      "9\n"
     ]
    }
   ],
   "source": [
    "list1 = [1,2,3,4,5,6,7,8,9,10]\n",
    "for x in list1:\n",
    "    print(x,end = \" \");\n",
    "    \n",
    "print();\n",
    "print(list1[1:-1])\n",
    "print(list1[2:-2])\n",
    "print(list1[::2])\n",
    "print(list1[::3])\n",
    "print(list1[::-2])\n",
    "print(list1[::-3])\n",
    "print(list1[-1])\n",
    "print(list1[-2])"
   ]
  },
  {
   "cell_type": "code",
   "execution_count": 57,
   "metadata": {},
   "outputs": [
    {
     "name": "stdout",
     "output_type": "stream",
     "text": [
      "['Akhil', 'Adarsh', 'Akhil', 1]\n",
      "['Akhil', 'Adarsh', 15, 1]\n",
      "['Akhil', 'Adarsh', 15]\n",
      "['Akhil', 'Gitam', 15]\n",
      "[1, 2, 3, 4, 5, 6, 7]\n",
      "['Akhil', 'Gitam', 15, 1, 2, 3, 4, 5, 6, 7]\n"
     ]
    }
   ],
   "source": [
    "list1 = [\"Akhil\",\"Adarsh\",\"Akhil\",1]\n",
    "print(list1);\n",
    "list1[2] = 15\n",
    "print(list1);\n",
    "del list1[3];\n",
    "print(list1)\n",
    "list1[1]=\"Gitam\"\n",
    "print(list1)\n",
    "\n",
    "list2 = [1,2,3,4,5,6,7]\n",
    "print(list2)\n",
    "\n",
    "print(list1+list2)## concatination of both list\n",
    "\n"
   ]
  },
  {
   "cell_type": "code",
   "execution_count": 75,
   "metadata": {},
   "outputs": [
    {
     "name": "stdout",
     "output_type": "stream",
     "text": [
      "[1, 2, 3, 4, 5]\n",
      "[1, 2, 4, 5]\n",
      "4\n",
      "[1, 2, 4, 5, 15]\n",
      "[1, 2, 4, 5, 15, 150]\n",
      "[1, 2, 4, 5, 15, 150, 1500]\n",
      "1\n",
      "1\n"
     ]
    }
   ],
   "source": [
    "list1 =[1,2,3,4,5]\n",
    "print(list1)\n",
    "del list1[2]\n",
    "print(list1)\n",
    "print(len(list1))\n",
    "list1.append(15)\n",
    "print(list1)\n",
    "list1.append(150)\n",
    "print(list1)\n",
    "list1.append(1500)\n",
    "print(list1)\n",
    "print(list1.count(1))# it counts the number how mant times it repeats\n",
    "print(list1.count(5))"
   ]
  },
  {
   "cell_type": "code",
   "execution_count": null,
   "metadata": {},
   "outputs": [],
   "source": [
    " "
   ]
  }
 ],
 "metadata": {
  "kernelspec": {
   "display_name": "Python 3",
   "language": "python",
   "name": "python3"
  },
  "language_info": {
   "codemirror_mode": {
    "name": "ipython",
    "version": 3
   },
   "file_extension": ".py",
   "mimetype": "text/x-python",
   "name": "python",
   "nbconvert_exporter": "python",
   "pygments_lexer": "ipython3",
   "version": "3.7.3"
  }
 },
 "nbformat": 4,
 "nbformat_minor": 2
}
