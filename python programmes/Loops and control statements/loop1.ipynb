{
 "cells": [
  {
   "cell_type": "code",
   "execution_count": 22,
   "metadata": {},
   "outputs": [
    {
     "name": "stdout",
     "output_type": "stream",
     "text": [
      "enter a number145\n",
      "4\n"
     ]
    }
   ],
   "source": [
    "x=int(input(\"enter a number\"));\n",
    "sum=0\n",
    "while(x!=0):\n",
    "    r=x%10;\n",
    "    if(r%2==0):\n",
    "       sum=sum+r;\n",
    "    \n",
    "    x=x//10;\n",
    "print(sum);\n"
   ]
  },
  {
   "cell_type": "code",
   "execution_count": 1,
   "metadata": {},
   "outputs": [
    {
     "ename": "IndentationError",
     "evalue": "expected an indented block (<ipython-input-1-95fba2c8a074>, line 5)",
     "output_type": "error",
     "traceback": [
      "\u001b[1;36m  File \u001b[1;32m\"<ipython-input-1-95fba2c8a074>\"\u001b[1;36m, line \u001b[1;32m5\u001b[0m\n\u001b[1;33m    print(\"zero\")\u001b[0m\n\u001b[1;37m                 ^\u001b[0m\n\u001b[1;31mIndentationError\u001b[0m\u001b[1;31m:\u001b[0m expected an indented block\n"
     ]
    }
   ],
   "source": [
    "x=int(input(\"enter a number \"))\n",
    "while(x!=0):\n",
    "    r=x%10;\n",
    "    if(r==0):\n",
    "print(\"zero\")\n",
    "    elif(r==1):\n",
    "print(\"one\")\n",
    "    elif(r==2):\n",
    "print(\"two\")\n",
    "    elif(r==3):\n",
    "print(\"three\") \n",
    "    elif(r==4):\n",
    "print(\"four\")\n",
    "    elif(r==5):\n",
    "print(\"five\") \n",
    "    elif(r==6):\n",
    "print(\"six\")\n",
    "    elif(r==7):\n",
    "print(\"seven\") \n",
    "    elif(r==8):\n",
    "print(\"eight\")\n",
    "    elif(r==9):\n",
    "print(\"nine\") \n",
    "        r//10;\n",
    "print(x);\n",
    "                "
   ]
  },
  {
   "cell_type": "code",
   "execution_count": null,
   "metadata": {},
   "outputs": [],
   "source": [
    "\n"
   ]
  },
  {
   "cell_type": "code",
   "execution_count": null,
   "metadata": {},
   "outputs": [],
   "source": []
  }
 ],
 "metadata": {
  "kernelspec": {
   "display_name": "Python 3",
   "language": "python",
   "name": "python3"
  },
  "language_info": {
   "codemirror_mode": {
    "name": "ipython",
    "version": 3
   },
   "file_extension": ".py",
   "mimetype": "text/x-python",
   "name": "python",
   "nbconvert_exporter": "python",
   "pygments_lexer": "ipython3",
   "version": "3.7.3"
  }
 },
 "nbformat": 4,
 "nbformat_minor": 2
}
