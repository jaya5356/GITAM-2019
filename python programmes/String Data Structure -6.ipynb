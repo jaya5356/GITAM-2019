{
 "cells": [
  {
   "cell_type": "code",
   "execution_count": 14,
   "metadata": {},
   "outputs": [
    {
     "data": {
      "text/plain": [
       "26"
      ]
     },
     "execution_count": 14,
     "metadata": {},
     "output_type": "execute_result"
    }
   ],
   "source": [
    "def sumofDigits(str):\n",
    "    sum=0\n",
    "    lst=list(str)\n",
    "    for x in range(len(lst)):\n",
    "        if(ord(lst[x])>=48 and ord(lst[x])<=57) :\n",
    "            sum=sum+ord(lst[x])-48;\n",
    "    return sum\n",
    "sumofDigits(\"Application1889\")"
   ]
  },
  {
   "cell_type": "code",
   "execution_count": 29,
   "metadata": {},
   "outputs": [
    {
     "name": "stdout",
     "output_type": "stream",
     "text": [
      "16\n",
      "4\n"
     ]
    }
   ],
   "source": [
    "## Strings -- add only even digits to sum   \n",
    "\n",
    "def addEvenDigit(str):\n",
    "    sum=0\n",
    "    lst=list(str)\n",
    "    for x  in range(len(lst)):\n",
    "        \n",
    "        if(ord(lst[x])>=48 and ord(lst[x])<=57 ):\n",
    "            ac=ord(lst[x])-48\n",
    "            if(ac%2==0):\n",
    "                sum=sum+ac\n",
    "    \n",
    "    return sum\n",
    "print(addEvenDigit(\"Application 1889\"))   \n",
    "print(addEvenDigit(\" tele 2000121\"))"
   ]
  },
  {
   "cell_type": "code",
   "execution_count": 30,
   "metadata": {},
   "outputs": [],
   "source": [
    "##  "
   ]
  },
  {
   "cell_type": "code",
   "execution_count": null,
   "metadata": {},
   "outputs": [],
   "source": []
  },
  {
   "cell_type": "code",
   "execution_count": null,
   "metadata": {},
   "outputs": [],
   "source": []
  },
  {
   "cell_type": "code",
   "execution_count": null,
   "metadata": {},
   "outputs": [],
   "source": []
  },
  {
   "cell_type": "code",
   "execution_count": null,
   "metadata": {},
   "outputs": [],
   "source": []
  }
 ],
 "metadata": {
  "kernelspec": {
   "display_name": "Python 3",
   "language": "python",
   "name": "python3"
  },
  "language_info": {
   "codemirror_mode": {
    "name": "ipython",
    "version": 3
   },
   "file_extension": ".py",
   "mimetype": "text/x-python",
   "name": "python",
   "nbconvert_exporter": "python",
   "pygments_lexer": "ipython3",
   "version": "3.7.3"
  }
 },
 "nbformat": 4,
 "nbformat_minor": 2
}
