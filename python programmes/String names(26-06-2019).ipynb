{
 "cells": [
  {
   "cell_type": "code",
   "execution_count": 1,
   "metadata": {},
   "outputs": [],
   "source": [
    "# upper() -Returns to the string which all characters are in upper case\n",
    "#lower() - returns to the string which all the character are in lower case"
   ]
  },
  {
   "cell_type": "code",
   "execution_count": 4,
   "metadata": {},
   "outputs": [
    {
     "name": "stdout",
     "output_type": "stream",
     "text": [
      "MAHESH\n",
      "mahesh\n"
     ]
    }
   ],
   "source": [
    "str = \"Mahesh\"\n",
    "print(str.upper())\n",
    "print(str.lower())"
   ]
  },
  {
   "cell_type": "code",
   "execution_count": 13,
   "metadata": {},
   "outputs": [
    {
     "name": "stdout",
     "output_type": "stream",
     "text": [
      "False\n",
      "True\n"
     ]
    }
   ],
   "source": [
    "s= 'a I'\n",
    "s1=\"python\"\n",
    "print(s.islower())\n",
    "print(s1.islower())"
   ]
  },
  {
   "cell_type": "code",
   "execution_count": 11,
   "metadata": {},
   "outputs": [
    {
     "name": "stdout",
     "output_type": "stream",
     "text": [
      "False\n",
      "True\n"
     ]
    }
   ],
   "source": [
    "s=\" Application\"\n",
    "s1='A'\n",
    "print(s.isupper())\n",
    "print(s1.isupper())"
   ]
  },
  {
   "cell_type": "code",
   "execution_count": 27,
   "metadata": {},
   "outputs": [
    {
     "name": "stdout",
     "output_type": "stream",
     "text": [
      "True\n",
      "False\n"
     ]
    }
   ],
   "source": [
    "s= \"1234\"\n",
    "s1=\"App1889\"\n",
    "print(s.isnumeric())\n",
    "print(s1.isnumeric())"
   ]
  },
  {
   "cell_type": "code",
   "execution_count": 20,
   "metadata": {},
   "outputs": [
    {
     "name": "stdout",
     "output_type": "stream",
     "text": [
      "True\n",
      "False\n"
     ]
    }
   ],
   "source": [
    "s=\"Application\"\n",
    "s1=\"App1889\"\n",
    "print(s.isalpha())\n",
    "print(s1.isalpha())"
   ]
  },
  {
   "cell_type": "code",
   "execution_count": 23,
   "metadata": {},
   "outputs": [
    {
     "name": "stdout",
     "output_type": "stream",
     "text": [
      "False\n",
      "True\n"
     ]
    }
   ],
   "source": [
    "s=\"python programming\"\n",
    "s1=\"Python Programming\"\n",
    "print(s.istitle())\n",
    "print(s1.istitle())"
   ]
  },
  {
   "cell_type": "code",
   "execution_count": 36,
   "metadata": {},
   "outputs": [
    {
     "name": "stdout",
     "output_type": "stream",
     "text": [
      "False\n"
     ]
    }
   ],
   "source": [
    "s =\"python\"\n",
    "print(s.isspace())"
   ]
  },
  {
   "cell_type": "code",
   "execution_count": 40,
   "metadata": {},
   "outputs": [
    {
     "name": "stdout",
     "output_type": "stream",
     "text": [
      "P y t h o n\n"
     ]
    }
   ],
   "source": [
    "str = \"Python\"\n",
    "print(\" \".join(str))"
   ]
  },
  {
   "cell_type": "code",
   "execution_count": 48,
   "metadata": {},
   "outputs": [
    {
     "name": "stdout",
     "output_type": "stream",
     "text": [
      "python ,programming ,easy\n"
     ]
    }
   ],
   "source": [
    "print(\" ,\".join([\"python\",\"programming\",\"easy\"]))"
   ]
  },
  {
   "cell_type": "code",
   "execution_count": 44,
   "metadata": {},
   "outputs": [
    {
     "name": "stdout",
     "output_type": "stream",
     "text": [
      "False\n",
      "True\n"
     ]
    }
   ],
   "source": [
    "s = \"python\"\n",
    "s1=\" \"\n",
    "print(s.isspace())\n",
    "print(s1.isspace())"
   ]
  },
  {
   "cell_type": "code",
   "execution_count": 61,
   "metadata": {},
   "outputs": [
    {
     "name": "stdout",
     "output_type": "stream",
     "text": [
      "man \n"
     ]
    }
   ],
   "source": [
    "lst =[\"man \" ]\n",
    "print(\" ,\".join(lst))"
   ]
  },
  {
   "cell_type": "code",
   "execution_count": 62,
   "metadata": {
    "scrolled": true
   },
   "outputs": [
    {
     "name": "stdout",
     "output_type": "stream",
     "text": [
      "['python', 'programming', 'is', 'easy', 'to', 'learn']\n",
      "['python progr', 'mming is e', 'sy to le', 'rn']\n",
      "['python programming is easy to learn']\n"
     ]
    }
   ],
   "source": [
    "s= \"python programming is easy to learn\"\n",
    "\n",
    "print(s.split())\n",
    "print(s.split(\"a\"))\n",
    "print(s.split(\",\"))"
   ]
  },
  {
   "cell_type": "code",
   "execution_count": 66,
   "metadata": {},
   "outputs": [
    {
     "name": "stdout",
     "output_type": "stream",
     "text": [
      "['Python', 'programming', 'is', 'hard', 'to', 'learn']\n",
      "2\n"
     ]
    }
   ],
   "source": [
    "s= \"Python programming is hard to learn\"\n",
    "lst=s.split()\n",
    "print(lst)\n",
    "print(lst.index(\"is\"))## to find Index"
   ]
  },
  {
   "cell_type": "code",
   "execution_count": 73,
   "metadata": {},
   "outputs": [
    {
     "name": "stdout",
     "output_type": "stream",
     "text": [
      "['P', 'y', 't', 'h', 'o', 'n', ' ', 'p', 'r', 'o', 'g', 'r', 'a', 'm', 'm', 'i', 'n', 'g', ' ', 'i', 's', ' ', 'h', 'a', 'r', 'd', ' ', 't', 'o', ' ', 'l', 'e', 'a', 'r', 'n']\n",
      "['Python programming is hard to learn']\n"
     ]
    }
   ],
   "source": [
    "s= \"Python programming is hard to learn\"\n",
    "lst =list(s)\n",
    "print(lst)\n",
    "print(s.split(\",\"))## strings to words"
   ]
  },
  {
   "cell_type": "code",
   "execution_count": 77,
   "metadata": {},
   "outputs": [
    {
     "name": "stdout",
     "output_type": "stream",
     "text": [
      "Python Proapplicationmming\n",
      "Python very hard\n"
     ]
    }
   ],
   "source": [
    "s=\"Python Programming\"\n",
    "s1=\"Python is hard\"\n",
    "print(s.replace(\"gra\",\"application\"))\n",
    "print(s1.replace(\"is\",\"very\"))"
   ]
  },
  {
   "cell_type": "code",
   "execution_count": 78,
   "metadata": {},
   "outputs": [
    {
     "name": "stdout",
     "output_type": "stream",
     "text": [
      "('python', 'programming', 1989, 2019, 'machine learning', 'A1')\n",
      "(1, 2, 3, 4, 5)\n"
     ]
    }
   ],
   "source": [
    "t1=(\"python\",\"programming\",1989,2019,\"machine learning\",\"A1\")\n",
    "t2=1,2,3,4,5\n",
    "print(t1)\n",
    "print(t2)"
   ]
  },
  {
   "cell_type": "code",
   "execution_count": 88,
   "metadata": {},
   "outputs": [
    {
     "name": "stdout",
     "output_type": "stream",
     "text": [
      "t1[0]= python\n",
      "t1[-1] A1\n",
      "t1[1:3] ('programming', 1989)\n"
     ]
    }
   ],
   "source": [
    "t1=(\"python\",\"programming\",1989,2019,\"machine learning\",\"A1\")\n",
    "print(\"t1[0]=\",t1[0])\n",
    "print(\"t1[-1]\",t1[-1])\n",
    "print(\"t1[1:3]\",t1[1:3])\n"
   ]
  },
  {
   "cell_type": "code",
   "execution_count": null,
   "metadata": {},
   "outputs": [],
   "source": [
    "\n"
   ]
  },
  {
   "cell_type": "code",
   "execution_count": 95,
   "metadata": {},
   "outputs": [
    {
     "name": "stdout",
     "output_type": "stream",
     "text": [
      "('python', 'programming', 1989, 2019, 'ML', 'AI')\n"
     ]
    }
   ],
   "source": [
    "t1=(\"python\", \"programming\")\n",
    "t2=(1989,2019,\"ML\",\"AI\")\n",
    "t3=t1+t2\n",
    "print(t3)"
   ]
  },
  {
   "cell_type": "code",
   "execution_count": 96,
   "metadata": {},
   "outputs": [
    {
     "name": "stdout",
     "output_type": "stream",
     "text": [
      "6\n"
     ]
    }
   ],
   "source": [
    "t1=(\"python\",\"programming\",1989,2019,\"machine learning\",\"A1\")\n",
    "print(len(t1))\n"
   ]
  },
  {
   "cell_type": "code",
   "execution_count": 98,
   "metadata": {},
   "outputs": [
    {
     "name": "stdout",
     "output_type": "stream",
     "text": [
      "78\n",
      "12\n"
     ]
    }
   ],
   "source": [
    "t1=(1,12,34,56,78,)\n",
    "t2=(12,11)\n",
    "print(max(t1))\n",
    "print(max(t2))"
   ]
  },
  {
   "cell_type": "code",
   "execution_count": 102,
   "metadata": {},
   "outputs": [
    {
     "name": "stdout",
     "output_type": "stream",
     "text": [
      "(1, 92, 17, 23, 21, 69)\n",
      "(1, 34, 64, 91, 45, 6)\n"
     ]
    }
   ],
   "source": [
    "t1=(1,92,17,23,21,69)\n",
    "t2=(1,34,64,91,45,6)\n",
    "print(t1)\n",
    "print(t2)"
   ]
  },
  {
   "cell_type": "code",
   "execution_count": 104,
   "metadata": {},
   "outputs": [
    {
     "name": "stdout",
     "output_type": "stream",
     "text": [
      "['python', 'programming', 1989, 2019, 'machine learning', 'A1']\n",
      "('python', 'programming', 1989, 2019, 'machine learning', 'A1')\n"
     ]
    }
   ],
   "source": [
    "list1=[\"python\",\"programming\",1989,2019,\"machine learning\",\"A1\"]\n",
    "print(list1)\n",
    "tuple1=tuple(list1)\n",
    "print(tuple1)"
   ]
  },
  {
   "cell_type": "code",
   "execution_count": 106,
   "metadata": {},
   "outputs": [],
   "source": [
    "## Python Dictionary"
   ]
  },
  {
   "cell_type": "code",
   "execution_count": 115,
   "metadata": {},
   "outputs": [
    {
     "name": "stdout",
     "output_type": "stream",
     "text": [
      "user1[Name] = mahesh\n",
      "user1[Age] = 18\n",
      "user1[E-mail-id] = mahesh.indukuri1999@gmail.com\n",
      "user1[Mobile no] = 9100080002\n"
     ]
    }
   ],
   "source": [
    "user1 = {'Name':'mahesh','Age':'18','E-mail-id':'mahesh.indukuri1999@gmail.com','Mobile no':'9100080002'}\n",
    "print(\"user1[Name] =\", user1['Name'])\n",
    "print(\"user1[Age] =\", user1['Age'])\n",
    "print(\"user1[E-mail-id] =\", user1['E-mail-id'])\n",
    "print(\"user1[Mobile no] =\", user1['Mobile no'])"
   ]
  },
  {
   "cell_type": "code",
   "execution_count": 125,
   "metadata": {},
   "outputs": [
    {
     "name": "stdout",
     "output_type": "stream",
     "text": [
      "mahesh.indukuri1999@gmail.com\n",
      "221810306021@gitam.in\n",
      "Hyderabad\n"
     ]
    }
   ],
   "source": [
    "user1 = {'Name':'mahesh','Age':'18','E-mail-id':'mahesh.indukuri1999@gmail.com','Mobile no':'9100080002'}\n",
    "print(user1['E-mail-id'])\n",
    "#updatwe the digit into object data \n",
    "user1['E-mail-id']='221810306021@gitam.in'\n",
    "print(user1['E-mail-id'])\n",
    "user1['Address']='Hyderabad'## adding new information\n",
    "print(user1['Address'])\n"
   ]
  },
  {
   "cell_type": "code",
   "execution_count": 134,
   "metadata": {},
   "outputs": [
    {
     "name": "stdout",
     "output_type": "stream",
     "text": [
      "4\n"
     ]
    }
   ],
   "source": [
    "user1 = {'Name':'mahesh','Age':'18','E-mail-id':'mahesh.indukuri1999@gmail.com','Mobile no':'9100080002'}\n",
    "print(len(user1))\n",
    "\n",
    "\n",
    "\n",
    "#user1['Address']\n",
    "##print(user1)"
   ]
  },
  {
   "cell_type": "code",
   "execution_count": 137,
   "metadata": {},
   "outputs": [
    {
     "name": "stdout",
     "output_type": "stream",
     "text": [
      "{'Name': 'mahesh', 'Age': '18', 'E-mail-id': 'mahesh.indukuri1999@gmail.com', 'Mobile no': '9100080002'}\n",
      "{'Name': 'mahesh', 'Age': '18', 'E-mail-id': 'mahesh.indukuri1999@gmail.com', 'Mobile no': '9100080002'}\n",
      "{'Name': 'mahesh', 'Age': '18', 'E-mail-id': 'mahesh.indukuri1999@gmail.com', 'Mobile no': '9100080002', 'Address': 'Hyderabad'}\n",
      "{'Name': 'mahesh', 'Age': '18', 'E-mail-id': 'mahesh.indukuri1999@gmail.com', 'Mobile no': '9100080002'}\n"
     ]
    }
   ],
   "source": [
    "user1 = {'Name':'mahesh','Age':'18','E-mail-id':'mahesh.indukuri1999@gmail.com','Mobile no':'9100080002'}\n",
    "user2=user1.copy()\n",
    "print(user1)\n",
    "print(user2)\n",
    "user1['Address']='Hyderabad'\n",
    "print(user1)\n",
    "print(user2)"
   ]
  },
  {
   "cell_type": "code",
   "execution_count": 143,
   "metadata": {},
   "outputs": [
    {
     "name": "stdout",
     "output_type": "stream",
     "text": [
      "dict_items([('Name', 'mahesh'), ('Age', '18'), ('E-mail-id', 'mahesh.indukuri1999@gmail.com'), ('Mobile no', '9100080002')])\n",
      "dict_values(['mahesh', '18', 'mahesh.indukuri1999@gmail.com', '9100080002'])\n"
     ]
    }
   ],
   "source": [
    "user1 = {'Name':'mahesh','Age':'18','E-mail-id':'mahesh.indukuri1999@gmail.com','Mobile no':'9100080002'}\n",
    "print(user1.items())\n",
    "print(user1.values())"
   ]
  },
  {
   "cell_type": "code",
   "execution_count": 144,
   "metadata": {},
   "outputs": [
    {
     "name": "stdout",
     "output_type": "stream",
     "text": [
      "dict_values(['mahesh', '18', 'mahesh.indukuri1999@gmail.com', '9100080002'])\n",
      "dict_values(['mahesh', '18', 'mahesh.indukuri1999@gmail.com', '9100080002'])\n"
     ]
    }
   ],
   "source": [
    "user1 = {'Name':'mahesh','Age':'18','E-mail-id':'mahesh.indukuri1999@gmail.com','Mobile no':'9100080002'}\n",
    "user2=user1.copy()\n",
    "print(user1.values())\n",
    "print(user2.values())"
   ]
  },
  {
   "cell_type": "code",
   "execution_count": 152,
   "metadata": {},
   "outputs": [
    {
     "name": "stdout",
     "output_type": "stream",
     "text": [
      "('python', 'programming')\n"
     ]
    }
   ],
   "source": [
    "lst=[\"python\",\"programming\"]\n",
    "print((lst[0],lst[1]))"
   ]
  },
  {
   "cell_type": "code",
   "execution_count": 30,
   "metadata": {},
   "outputs": [
    {
     "name": "stdout",
     "output_type": "stream",
     "text": [
      "Contact Mahesh added\n",
      "Contact Jaya added\n",
      "Contact man added\n",
      "Contact human added\n"
     ]
    },
    {
     "data": {
      "text/plain": [
       "{'Mahesh': 9100080002,\n",
       " 'Jaya': 9618795033,\n",
       " 'man': 9123412312,\n",
       " 'human': 8123401234}"
      ]
     },
     "execution_count": 30,
     "metadata": {},
     "output_type": "execute_result"
    }
   ],
   "source": [
    "##Add new contacts\n",
    "contacts = {}\n",
    "def addContact(name,phone):\n",
    "    ## Verify the contact doesnt already exist\n",
    "    if name not in contacts:\n",
    "        contacts[name]=phone\n",
    "        print(\"Contact %s added\"% name)\n",
    "    else:\n",
    "        print(\"Contacts %s added\"% name)\n",
    "    return contacts\n",
    "addContact(\"Mahesh\",9100080002)\n",
    "addContact(\"Jaya\",9618795033)\n",
    "addContact(\"man\",9123412312)\n",
    "addContact(\"human\",8123401234)"
   ]
  },
  {
   "cell_type": "code",
   "execution_count": 26,
   "metadata": {},
   "outputs": [
    {
     "name": "stdout",
     "output_type": "stream",
     "text": [
      "Mahesh :-  9100080002\n",
      "Jay does not exists\n"
     ]
    }
   ],
   "source": [
    "## Search for contact\n",
    "\n",
    "def searchContact(name):\n",
    "    if name in contacts:\n",
    "        print(name,\":- \",contacts[name])\n",
    "    else:\n",
    "        print(\"%s does not exists\"% name)\n",
    "    return\n",
    "searchContact(\"Mahesh\")\n",
    "searchContact(\"Jay\")"
   ]
  },
  {
   "cell_type": "code",
   "execution_count": 42,
   "metadata": {
    "scrolled": true
   },
   "outputs": [
    {
     "name": "stdout",
     "output_type": "stream",
     "text": [
      "2 Contacts added Succesfully\n"
     ]
    },
    {
     "data": {
      "text/plain": [
       "{'Dinesh': 8008001, 'Ajay': 910000}"
      ]
     },
     "execution_count": 42,
     "metadata": {},
     "output_type": "execute_result"
    }
   ],
   "source": [
    "##New contacts is given in dictionary\n",
    "def importContacts(newContacts):\n",
    "    contacts.update(newContacts)\n",
    "    print(len(newContacts.keys()),\"Contacts added Succesfully\")\n",
    "    return newContacts\n",
    "newContacts= {'Dinesh':8008001,'Ajay': 910000}\n",
    "importContacts(newContacts)"
   ]
  },
  {
   "cell_type": "code",
   "execution_count": 47,
   "metadata": {},
   "outputs": [
    {
     "name": "stdout",
     "output_type": "stream",
     "text": [
      "Dinesh is not exists in contacts\n",
      "Mann is not exists in contacts\n"
     ]
    },
    {
     "data": {
      "text/plain": [
       "{'Mahesh': 9100080002, 'man': 9123412312, 'human': 8123401234, 'Ajay': 910000}"
      ]
     },
     "execution_count": 47,
     "metadata": {},
     "output_type": "execute_result"
    }
   ],
   "source": [
    "## Delete contacts from list\n",
    "def deleteContact(name):\n",
    "    if name in contacts:\n",
    "        del contacts[name]\n",
    "        print(name,\"is deleted in contacts\")\n",
    "    else:\n",
    "        print(name,\"is not exists in contacts\")\n",
    "    return contacts\n",
    "deleteContact(\"Dinesh\")\n",
    "deleteContact(\"Mann\")"
   ]
  },
  {
   "cell_type": "code",
   "execution_count": 55,
   "metadata": {},
   "outputs": [
    {
     "name": "stdout",
     "output_type": "stream",
     "text": [
      "Mahesh  :Update with new phone number\n",
      "human  :Update with new phone number\n"
     ]
    },
    {
     "data": {
      "text/plain": [
       "{'Mahesh': 9100080002, 'man': 9123412312, 'human': 8008001582, 'Ajay': 910000}"
      ]
     },
     "execution_count": 55,
     "metadata": {},
     "output_type": "execute_result"
    }
   ],
   "source": [
    "##modify the Contacts\n",
    "def updateContact(name,phone):\n",
    "    if name in contacts:\n",
    "        contacts[name]=phone\n",
    "        print(name,\" :Update with new phone number\")\n",
    "    else:\n",
    "        print(name,\" :not exists in contacts\")\n",
    "    return contacts\n",
    "updateContact(\"Mahesh\",9100080002)\n",
    "updateContact(\"human\",8008001582)"
   ]
  },
  {
   "cell_type": "code",
   "execution_count": 58,
   "metadata": {},
   "outputs": [
    {
     "name": "stdout",
     "output_type": "stream",
     "text": [
      "1234\n"
     ]
    }
   ],
   "source": [
    "list1=[1,2,3,4]\n",
    "print(\"%d%d%d%d\"% (list1[0],list1[1],list1[2],list1[3]))"
   ]
  },
  {
   "cell_type": "code",
   "execution_count": 59,
   "metadata": {},
   "outputs": [
    {
     "name": "stdout",
     "output_type": "stream",
     "text": [
      "Values at :1 Value at:2\n",
      "values at :3 value at:4\n"
     ]
    }
   ],
   "source": [
    "lst=[1,2,3,4]\n",
    "print(\"Values at :{0} Value at:{1}\".format(lst[0],lst[1]))\n",
    "print(\"values at :{0} value at:{1}\".format(lst[2],lst[3]))"
   ]
  },
  {
   "cell_type": "code",
   "execution_count": 64,
   "metadata": {},
   "outputs": [
    {
     "data": {
      "text/plain": [
       "123"
      ]
     },
     "execution_count": 64,
     "metadata": {},
     "output_type": "execute_result"
    }
   ],
   "source": [
    "from math import floor as f1\n",
    "f1(123.456)\n"
   ]
  },
  {
   "cell_type": "code",
   "execution_count": 65,
   "metadata": {},
   "outputs": [
    {
     "data": {
      "text/plain": [
       "120"
      ]
     },
     "execution_count": 65,
     "metadata": {},
     "output_type": "execute_result"
    }
   ],
   "source": [
    "from math import factorial as fact\n",
    "fact(5)"
   ]
  },
  {
   "cell_type": "code",
   "execution_count": 66,
   "metadata": {},
   "outputs": [
    {
     "data": {
      "text/plain": [
       "120"
      ]
     },
     "execution_count": 66,
     "metadata": {},
     "output_type": "execute_result"
    }
   ],
   "source": [
    "import math\n",
    "math.factorial(5)"
   ]
  },
  {
   "cell_type": "code",
   "execution_count": 2,
   "metadata": {},
   "outputs": [
    {
     "name": "stdout",
     "output_type": "stream",
     "text": [
      "54 60 60 74 120 26 15 93 47 71 "
     ]
    }
   ],
   "source": [
    "import random\n",
    "def generateRandomNumber(n,lb,ub):\n",
    "    for i in range(0,n):\n",
    "        print(random.randint(lb,ub),end=\" \")\n",
    "    return\n",
    "generateRandomNumber(10,12,120)"
   ]
  },
  {
   "cell_type": "code",
   "execution_count": null,
   "metadata": {},
   "outputs": [],
   "source": []
  },
  {
   "cell_type": "code",
   "execution_count": null,
   "metadata": {},
   "outputs": [],
   "source": []
  }
 ],
 "metadata": {
  "kernelspec": {
   "display_name": "Python 3",
   "language": "python",
   "name": "python3"
  },
  "language_info": {
   "codemirror_mode": {
    "name": "ipython",
    "version": 3
   },
   "file_extension": ".py",
   "mimetype": "text/x-python",
   "name": "python",
   "nbconvert_exporter": "python",
   "pygments_lexer": "ipython3",
   "version": "3.7.3"
  }
 },
 "nbformat": 4,
 "nbformat_minor": 2
}
